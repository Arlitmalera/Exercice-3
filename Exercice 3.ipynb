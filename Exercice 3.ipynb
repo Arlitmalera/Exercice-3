{
 "cells": [
  {
   "cell_type": "markdown",
   "id": "cd4dcbcb",
   "metadata": {},
   "source": [
    "# question 1\n",
    "\n",
    "Écrivez une fonction Python pour trouver le plus grand (max) de trois nombres.\n",
    "\n",
    "Par exemple, le maximum de ces trois nombres (20, 35, 19) est 35 ."
   ]
  },
  {
   "cell_type": "code",
   "execution_count": 3,
   "id": "1a0bd75f",
   "metadata": {},
   "outputs": [
    {
     "name": "stdout",
     "output_type": "stream",
     "text": [
      "35\n"
     ]
    }
   ],
   "source": [
    "def max_of_three(num1, num2, num3):\n",
    "    max_num = max(num1, num2, num3)\n",
    "    return max_num\n",
    "\n",
    "print(max_of_three(20, 35, 19))"
   ]
  },
  {
   "cell_type": "markdown",
   "id": "c787679c",
   "metadata": {},
   "source": [
    "# question 2\n",
    "\n",
    "Écrivez une fonction calcul() afin qu'elle puisse accepter deux variables et en calculer l'addition et la soustraction. Il doit renvoyer à la fois l'addition et la soustraction en un seul appel de retour.\n",
    "\n",
    "Par example:\n",
    "\n",
    "calcul(40, 10) devrait produire 50, 30"
   ]
  },
  {
   "cell_type": "code",
   "execution_count": 6,
   "id": "9e0b72e4",
   "metadata": {},
   "outputs": [
    {
     "name": "stdout",
     "output_type": "stream",
     "text": [
      "(50, 30)\n"
     ]
    }
   ],
   "source": [
    "def calcul (x,y):\n",
    "    addition = x+y\n",
    "    soustration = x-y\n",
    "    return addition, soustration\n",
    "print(calcul(40,10))"
   ]
  },
  {
   "cell_type": "markdown",
   "id": "bdbe55eb",
   "metadata": {},
   "source": [
    "# question 3\n",
    "\n",
    "Écrivez une fonction qui additionne les éléments d'une liste d'entiers.\n",
    "Écrivez une fonction qui multiplie les éléments d'une liste d'entiers.\n",
    "Utilisez les deux fonctions pour additionner les éléments dont la position est un nombre pair (0,2,4…) et multiplier le reste.\n",
    "Indice : Envisagez d'extraire deux listes d'une première liste."
   ]
  },
  {
   "cell_type": "code",
   "execution_count": 7,
   "id": "5662c026",
   "metadata": {},
   "outputs": [
    {
     "name": "stdout",
     "output_type": "stream",
     "text": [
      "17\n"
     ]
    }
   ],
   "source": [
    "def add_list(liste):\n",
    "  result = 0\n",
    "  for i in liste:\n",
    "    result += i\n",
    "  return result\n",
    "\n",
    "def multiply_list(liste):\n",
    "  result = 1\n",
    "  for i in liste:\n",
    "    result *= i\n",
    "  return result\n",
    "\n",
    "def add_multiply_list(liste):\n",
    "  even_list = []\n",
    "  odd_list = []\n",
    "\n",
    "  for i in range(len(liste)):\n",
    "    if i % 2 == 0:\n",
    "      even_list.append(liste[i])\n",
    "    else:\n",
    "      odd_list.append(liste[i])\n",
    "\n",
    "  return add_list(even_list) + multiply_list(odd_list)\n",
    "\n",
    "print(add_multiply_list([1,2,3,4,5]))"
   ]
  },
  {
   "cell_type": "markdown",
   "id": "6abaaac2",
   "metadata": {},
   "source": [
    "# question 4\n",
    "\n",
    "écrire une fonction qui affiche la première lettre de la valeur du dictionnaire en majuscule en utilisant l'instruction return."
   ]
  },
  {
   "cell_type": "code",
   "execution_count": 14,
   "id": "d5709f56",
   "metadata": {},
   "outputs": [],
   "source": [
    "def l(a):\n",
    "    l=[a,b,c,d]\n",
    "    return l[0].upper()"
   ]
  },
  {
   "cell_type": "markdown",
   "id": "0c48dfe8",
   "metadata": {},
   "source": [
    "# question 5\n",
    "\n",
    "écrire une fonction qui renvoie le plus grand mot du dictionnaire."
   ]
  },
  {
   "cell_type": "code",
   "execution_count": 15,
   "id": "d1795c76",
   "metadata": {},
   "outputs": [],
   "source": [
    "def plus_grand_mot(dictionnaire):\n",
    "    plus_grand = \"\"\n",
    "    for mot in dictionnaire:\n",
    "        if len(mot) > len(plus_grand):\n",
    "            plus_grand = mot\n",
    "    return plus_grand"
   ]
  },
  {
   "cell_type": "markdown",
   "id": "7fa7524e",
   "metadata": {},
   "source": [
    "# question 6\n",
    "\n",
    "Écrivez un programme Python qui accepte une séquence de mots séparés par des tirets en entrée et imprime les mots dans une séquence séparée par des tirets après les avoir triés par ordre alphabétique.\n",
    "\n",
    "Exemples d'articles : vert-rouge-jaune-noir-blanc\n",
    "\n",
    "Résultat attendu : noir-vert-rouge-blanc-jaune\n",
    "\n",
    "Astuce : Il existe une fonction de division pour séparer votre chaîne d'entrée en mots et une fonction de tri pour trier."
   ]
  },
  {
   "cell_type": "code",
   "execution_count": 16,
   "id": "65e17be1",
   "metadata": {},
   "outputs": [
    {
     "name": "stdout",
     "output_type": "stream",
     "text": [
      "Entrez une séquence de mots séparés par des tirets : vert-rouge-jaune-noir-blanc\n",
      "blanc-jaune-noir-rouge-vert\n"
     ]
    }
   ],
   "source": [
    "l = input(\"Entrez une séquence de mots séparés par des tirets : \")\n",
    "mots = l.split(\"-\")\n",
    "mots.sort()\n",
    "sortie = \"-\".join(mots)\n",
    "print(sortie)"
   ]
  },
  {
   "cell_type": "markdown",
   "id": "3fd19fb1",
   "metadata": {},
   "source": [
    "# Question 7 (prime)\n",
    "\n",
    "Écrivez une fonction qui calcule et imprime la valeur selon la formule donnée : Q = racine carrée de [(2 * C * D)/H]. Voici les valeurs fixes de C et H : C est 50 et H est 30. D est la variable dont les valeurs doivent être entrées dans votre programme dans une séquence séparée par des virgules. Exemple : Supposons que la séquence d'entrées séparées par des virgules suivante soit donnée à la fonction : 100,150,180. \n",
    "\n",
    "Résultat attendu : 18,22,24 \n",
    "\n",
    "Conseils : Si la sortie reçue est sous forme décimale, elle doit être arrondie à sa valeur la plus proche. Par exemple, si la sortie reçue est 26.0, elle doit être imprimée sous la forme 26. Dans le cas où des données d'entrée sont fournies à la question, il faut supposer qu'il s'agit d'une entrée de console. "
   ]
  },
  {
   "cell_type": "code",
   "execution_count": null,
   "id": "9c26f616",
   "metadata": {},
   "outputs": [],
   "source": [
    "def calculer_Q(D):\n",
    "  C = 50\n",
    "  H = 30\n",
    "  Q = round(math.sqrt((2 * C * D)/H))\n",
    "  print(Q)\n",
    "  \n",
    "D = input(\"Entrez une séquence séparée par des virgules : \")\n",
    "liste_D = D.split(\",\")\n",
    "for i in liste_D:\n",
    "  calculer_Q(int(i))"
   ]
  },
  {
   "cell_type": "code",
   "execution_count": null,
   "id": "a51fcf4b",
   "metadata": {},
   "outputs": [],
   "source": []
  }
 ],
 "metadata": {
  "kernelspec": {
   "display_name": "Python 3 (ipykernel)",
   "language": "python",
   "name": "python3"
  },
  "language_info": {
   "codemirror_mode": {
    "name": "ipython",
    "version": 3
   },
   "file_extension": ".py",
   "mimetype": "text/x-python",
   "name": "python",
   "nbconvert_exporter": "python",
   "pygments_lexer": "ipython3",
   "version": "3.9.13"
  }
 },
 "nbformat": 4,
 "nbformat_minor": 5
}
